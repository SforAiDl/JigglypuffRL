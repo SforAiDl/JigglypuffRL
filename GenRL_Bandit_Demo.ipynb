{
  "nbformat": 4,
  "nbformat_minor": 0,
  "metadata": {
    "colab": {
      "name": "GenRL Bandit Demo",
      "provenance": [],
      "collapsed_sections": [],
      "authorship_tag": "ABX9TyMmbZnJNIwdNwcQ64XCDQMT",
      "include_colab_link": true
    },
    "kernelspec": {
      "name": "python3",
      "display_name": "Python 3"
    }
  },
  "cells": [
    {
      "cell_type": "markdown",
      "metadata": {
        "id": "view-in-github",
        "colab_type": "text"
      },
      "source": [
        "<a href=\"https://colab.research.google.com/github/threewisemonkeys-as/genrl/blob/master/GenRL_Bandit_Demo.ipynb\" target=\"_parent\"><img src=\"https://colab.research.google.com/assets/colab-badge.svg\" alt=\"Open In Colab\"/></a>"
      ]
    },
    {
      "cell_type": "code",
      "metadata": {
        "id": "Pbkxqa7t2UQE",
        "colab_type": "code",
        "colab": {
          "base_uri": "https://localhost:8080/",
          "height": 141
        },
        "outputId": "5e75be4b-2dce-4cf4-ead1-a99f63c5ebe4"
      },
      "source": [
        "!git clone https://github.com/SforAiDl/genrl.git"
      ],
      "execution_count": null,
      "outputs": [
        {
          "output_type": "stream",
          "text": [
            "Cloning into 'genrl'...\n",
            "remote: Enumerating objects: 350, done.\u001b[K\n",
            "remote: Counting objects: 100% (350/350), done.\u001b[K\n",
            "remote: Compressing objects: 100% (245/245), done.\u001b[K\n",
            "remote: Total 7065 (delta 153), reused 217 (delta 96), pack-reused 6715\u001b[K\n",
            "Receiving objects: 100% (7065/7065), 7.57 MiB | 5.73 MiB/s, done.\n",
            "Resolving deltas: 100% (4204/4204), done.\n"
          ],
          "name": "stdout"
        }
      ]
    },
    {
      "cell_type": "code",
      "metadata": {
        "id": "w71Od6Uf2-aG",
        "colab_type": "code",
        "colab": {
          "base_uri": "https://localhost:8080/",
          "height": 1000
        },
        "outputId": "4f30a2a7-6548-45be-8989-9e829450ece6"
      },
      "source": [
        "!pip install -e genrl"
      ],
      "execution_count": null,
      "outputs": [
        {
          "output_type": "stream",
          "text": [
            "Obtaining file:///content/genrl\n",
            "Requirement already satisfied: atari-py==0.2.6 in /usr/local/lib/python3.6/dist-packages (from genrl==0.0.1) (0.2.6)\n",
            "Requirement already satisfied: box2d-py==2.3.8 in /usr/local/lib/python3.6/dist-packages (from genrl==0.0.1) (2.3.8)\n",
            "Requirement already satisfied: certifi==2019.11.28 in /usr/local/lib/python3.6/dist-packages (from genrl==0.0.1) (2019.11.28)\n",
            "Requirement already satisfied: cloudpickle==1.3.0 in /usr/local/lib/python3.6/dist-packages (from genrl==0.0.1) (1.3.0)\n",
            "Requirement already satisfied: future==0.18.2 in /usr/local/lib/python3.6/dist-packages (from genrl==0.0.1) (0.18.2)\n",
            "Requirement already satisfied: gym==0.17.1 in /usr/local/lib/python3.6/dist-packages (from genrl==0.0.1) (0.17.1)\n",
            "Requirement already satisfied: numpy==1.18.2 in /usr/local/lib/python3.6/dist-packages (from genrl==0.0.1) (1.18.2)\n",
            "Requirement already satisfied: opencv-python==4.2.0.34 in /usr/local/lib/python3.6/dist-packages (from genrl==0.0.1) (4.2.0.34)\n",
            "Requirement already satisfied: pandas==1.0.4 in /usr/local/lib/python3.6/dist-packages (from genrl==0.0.1) (1.0.4)\n",
            "Requirement already satisfied: Pillow==7.1.0 in /usr/local/lib/python3.6/dist-packages (from genrl==0.0.1) (7.1.0)\n",
            "Requirement already satisfied: pyglet==1.5.0 in /usr/local/lib/python3.6/dist-packages (from genrl==0.0.1) (1.5.0)\n",
            "Requirement already satisfied: scipy==1.4.1 in /usr/local/lib/python3.6/dist-packages (from genrl==0.0.1) (1.4.1)\n",
            "Requirement already satisfied: six==1.14.0 in /usr/local/lib/python3.6/dist-packages (from genrl==0.0.1) (1.14.0)\n",
            "Requirement already satisfied: matplotlib==3.2.1 in /usr/local/lib/python3.6/dist-packages (from genrl==0.0.1) (3.2.1)\n",
            "Requirement already satisfied: pytest==5.4.1 in /usr/local/lib/python3.6/dist-packages (from genrl==0.0.1) (5.4.1)\n",
            "Requirement already satisfied: torch==1.4.0 in /usr/local/lib/python3.6/dist-packages (from genrl==0.0.1) (1.4.0)\n",
            "Requirement already satisfied: torchvision==0.5.0 in /usr/local/lib/python3.6/dist-packages (from genrl==0.0.1) (0.5.0)\n",
            "Requirement already satisfied: tensorflow-tensorboard==1.5.1 in /usr/local/lib/python3.6/dist-packages (from genrl==0.0.1) (1.5.1)\n",
            "Requirement already satisfied: tensorboard==1.15.0 in /usr/local/lib/python3.6/dist-packages (from genrl==0.0.1) (1.15.0)\n",
            "Requirement already satisfied: pre-commit==2.4.0 in /usr/local/lib/python3.6/dist-packages (from genrl==0.0.1) (2.4.0)\n",
            "Requirement already satisfied: importlib-resources==1.0.1 in /usr/local/lib/python3.6/dist-packages (from genrl==0.0.1) (1.0.1)\n",
            "Requirement already satisfied: setuptools==41.0.0 in /usr/local/lib/python3.6/dist-packages (from genrl==0.0.1) (41.0.0)\n",
            "Requirement already satisfied: python-dateutil>=2.6.1 in /usr/local/lib/python3.6/dist-packages (from pandas==1.0.4->genrl==0.0.1) (2.8.1)\n",
            "Requirement already satisfied: pytz>=2017.2 in /usr/local/lib/python3.6/dist-packages (from pandas==1.0.4->genrl==0.0.1) (2018.9)\n",
            "Requirement already satisfied: pyparsing!=2.0.4,!=2.1.2,!=2.1.6,>=2.0.1 in /usr/local/lib/python3.6/dist-packages (from matplotlib==3.2.1->genrl==0.0.1) (2.4.7)\n",
            "Requirement already satisfied: kiwisolver>=1.0.1 in /usr/local/lib/python3.6/dist-packages (from matplotlib==3.2.1->genrl==0.0.1) (1.2.0)\n",
            "Requirement already satisfied: cycler>=0.10 in /usr/local/lib/python3.6/dist-packages (from matplotlib==3.2.1->genrl==0.0.1) (0.10.0)\n",
            "Requirement already satisfied: pluggy<1.0,>=0.12 in /usr/local/lib/python3.6/dist-packages (from pytest==5.4.1->genrl==0.0.1) (0.13.1)\n",
            "Requirement already satisfied: importlib-metadata>=0.12; python_version < \"3.8\" in /usr/local/lib/python3.6/dist-packages (from pytest==5.4.1->genrl==0.0.1) (1.7.0)\n",
            "Requirement already satisfied: attrs>=17.4.0 in /usr/local/lib/python3.6/dist-packages (from pytest==5.4.1->genrl==0.0.1) (20.1.0)\n",
            "Requirement already satisfied: more-itertools>=4.0.0 in /usr/local/lib/python3.6/dist-packages (from pytest==5.4.1->genrl==0.0.1) (8.4.0)\n",
            "Requirement already satisfied: packaging in /usr/local/lib/python3.6/dist-packages (from pytest==5.4.1->genrl==0.0.1) (20.4)\n",
            "Requirement already satisfied: wcwidth in /usr/local/lib/python3.6/dist-packages (from pytest==5.4.1->genrl==0.0.1) (0.2.5)\n",
            "Requirement already satisfied: py>=1.5.0 in /usr/local/lib/python3.6/dist-packages (from pytest==5.4.1->genrl==0.0.1) (1.9.0)\n",
            "Requirement already satisfied: wheel>=0.26; python_version >= \"3\" in /usr/local/lib/python3.6/dist-packages (from tensorflow-tensorboard==1.5.1->genrl==0.0.1) (0.35.1)\n",
            "Requirement already satisfied: html5lib==0.9999999 in /usr/local/lib/python3.6/dist-packages (from tensorflow-tensorboard==1.5.1->genrl==0.0.1) (0.9999999)\n",
            "Requirement already satisfied: markdown>=2.6.8 in /usr/local/lib/python3.6/dist-packages (from tensorflow-tensorboard==1.5.1->genrl==0.0.1) (3.2.2)\n",
            "Requirement already satisfied: werkzeug>=0.11.10 in /usr/local/lib/python3.6/dist-packages (from tensorflow-tensorboard==1.5.1->genrl==0.0.1) (1.0.1)\n",
            "Requirement already satisfied: bleach==1.5.0 in /usr/local/lib/python3.6/dist-packages (from tensorflow-tensorboard==1.5.1->genrl==0.0.1) (1.5.0)\n",
            "Requirement already satisfied: protobuf>=3.4.0 in /usr/local/lib/python3.6/dist-packages (from tensorflow-tensorboard==1.5.1->genrl==0.0.1) (3.12.4)\n",
            "Requirement already satisfied: absl-py>=0.4 in /usr/local/lib/python3.6/dist-packages (from tensorboard==1.15.0->genrl==0.0.1) (0.8.1)\n",
            "Requirement already satisfied: grpcio>=1.6.3 in /usr/local/lib/python3.6/dist-packages (from tensorboard==1.15.0->genrl==0.0.1) (1.31.0)\n",
            "Requirement already satisfied: virtualenv>=20.0.8 in /usr/local/lib/python3.6/dist-packages (from pre-commit==2.4.0->genrl==0.0.1) (20.0.31)\n",
            "Requirement already satisfied: cfgv>=2.0.0 in /usr/local/lib/python3.6/dist-packages (from pre-commit==2.4.0->genrl==0.0.1) (3.2.0)\n",
            "Requirement already satisfied: nodeenv>=0.11.1 in /usr/local/lib/python3.6/dist-packages (from pre-commit==2.4.0->genrl==0.0.1) (1.5.0)\n",
            "Requirement already satisfied: identify>=1.0.0 in /usr/local/lib/python3.6/dist-packages (from pre-commit==2.4.0->genrl==0.0.1) (1.4.29)\n",
            "Requirement already satisfied: toml in /usr/local/lib/python3.6/dist-packages (from pre-commit==2.4.0->genrl==0.0.1) (0.10.1)\n",
            "Requirement already satisfied: pyyaml>=5.1 in /usr/local/lib/python3.6/dist-packages (from pre-commit==2.4.0->genrl==0.0.1) (5.3.1)\n",
            "Requirement already satisfied: zipp>=0.5 in /usr/local/lib/python3.6/dist-packages (from importlib-metadata>=0.12; python_version < \"3.8\"->pytest==5.4.1->genrl==0.0.1) (3.1.0)\n",
            "Requirement already satisfied: filelock<4,>=3.0.0 in /usr/local/lib/python3.6/dist-packages (from virtualenv>=20.0.8->pre-commit==2.4.0->genrl==0.0.1) (3.0.12)\n",
            "Requirement already satisfied: distlib<1,>=0.3.1 in /usr/local/lib/python3.6/dist-packages (from virtualenv>=20.0.8->pre-commit==2.4.0->genrl==0.0.1) (0.3.1)\n",
            "Requirement already satisfied: appdirs<2,>=1.4.3 in /usr/local/lib/python3.6/dist-packages (from virtualenv>=20.0.8->pre-commit==2.4.0->genrl==0.0.1) (1.4.4)\n",
            "Installing collected packages: genrl\n",
            "  Found existing installation: genrl 0.0.1\n",
            "    Can't uninstall 'genrl'. No files were found to uninstall.\n",
            "  Running setup.py develop for genrl\n",
            "Successfully installed genrl\n"
          ],
          "name": "stdout"
        }
      ]
    },
    {
      "cell_type": "code",
      "metadata": {
        "id": "kMa_HDBT3APh",
        "colab_type": "code",
        "colab": {}
      },
      "source": [
        "import matplotlib.pyplot as plt\n",
        "import torch"
      ],
      "execution_count": null,
      "outputs": []
    },
    {
      "cell_type": "code",
      "metadata": {
        "id": "rVSRR6bG3Dr3",
        "colab_type": "code",
        "colab": {
          "base_uri": "https://localhost:8080/",
          "height": 744
        },
        "outputId": "674213f8-ad65-4afb-bdd8-24ec6b0da481"
      },
      "source": [
        "from genrl.agents import EpsGreedyMABAgent, BernoulliMAB\n",
        "from genrl.trainers import MABTrainer\n",
        "\n",
        "bandit = BernoulliMAB(arms=50, context_type=\"int\")\n",
        "agent = EpsGreedyMABAgent(bandit, eps=0.1)\n",
        "trainer = MABTrainer(agent, bandit)\n",
        "results = trainer.train(2000)\n",
        "\n",
        "plt.plot(results[\"cumulative_regrets\"])"
      ],
      "execution_count": null,
      "outputs": [
        {
          "output_type": "stream",
          "text": [
            "\n",
            "Started at 25-08-20 18:23:43\n",
            "Training EpsGreedyMABAgent on BernoulliMAB for 2000 timesteps\n",
            "timestep                  regret/regret             reward/reward             regret/cumulative_regret  reward/cumulative_reward  regret/regret_moving_avg  reward/reward_moving_avg  \n",
            "100                       0                         1                         13                        87                        0.13                      0.87                      \n",
            "200                       0                         1                         27                        173                       0.14                      0.86                      \n",
            "300                       0                         1                         37                        263                       0.1                       0.9                       \n",
            "400                       0                         1                         47                        353                       0.1                       0.9                       \n",
            "500                       0                         1                         59                        441                       0.12                      0.88                      \n",
            "600                       0                         1                         66                        534                       0.07                      0.93                      \n",
            "700                       0                         1                         79                        621                       0.13                      0.87                      \n",
            "800                       0                         1                         89                        711                       0.1                       0.9                       \n",
            "900                       0                         1                         97                        803                       0.08                      0.92                      \n",
            "1000                      0                         1                         106                       894                       0.09                      0.91                      \n",
            "1100                      0                         1                         114                       986                       0.08                      0.92                      \n",
            "1200                      0                         1                         123                       1077                      0.09                      0.91                      \n",
            "1300                      0                         1                         139                       1161                      0.16                      0.84                      \n",
            "1400                      0                         1                         151                       1249                      0.12                      0.88                      \n",
            "1500                      0                         1                         157                       1343                      0.06                      0.94                      \n",
            "1600                      0                         1                         165                       1435                      0.08                      0.92                      \n",
            "1700                      0                         1                         176                       1524                      0.11                      0.89                      \n",
            "1800                      0                         1                         186                       1614                      0.1                       0.9                       \n",
            "1900                      0                         1                         190                       1710                      0.04                      0.96                      \n",
            "2000                      0                         1                         198                       1802                      0.08                      0.92                      \n",
            "Training completed in 0 seconds\n",
            "Final Regret Moving Average: 0.08 | Final Reward Moving Average: 0.92\n"
          ],
          "name": "stdout"
        },
        {
          "output_type": "execute_result",
          "data": {
            "text/plain": [
              "[<matplotlib.lines.Line2D at 0x7f845f6c85c0>]"
            ]
          },
          "metadata": {
            "tags": []
          },
          "execution_count": 49
        },
        {
          "output_type": "display_data",
          "data": {
            "image/png": "[encoded data removed]",
            "text/plain": [
              "<Figure size 432x288 with 1 Axes>"
            ]
          },
          "metadata": {
            "tags": [],
            "needs_background": "light"
          }
        }
      ]
    },
    {
      "cell_type": "code",
      "metadata": {
        "id": "-sZC2jIJ3Ihm",
        "colab_type": "code",
        "colab": {
          "base_uri": "https://localhost:8080/",
          "height": 1000
        },
        "outputId": "6d23fc6c-9965-4e3e-aec5-258d4f5bfe4a"
      },
      "source": [
        "from genrl.agents import LinearPosteriorAgent\n",
        "from genrl.trainers import DCBTrainer\n",
        "from genrl.utils.data_bandits import CovertypeDataBandit\n",
        "\n",
        "bandit = CovertypeDataBandit(download=True)\n",
        "agent = LinearPosteriorAgent(bandit)\n",
        "trainer = DCBTrainer(agent, bandit)\n",
        "results = trainer.train(10000)\n",
        "\n",
        "plt.plot(results[\"cumulative_regrets\"])"
      ],
      "execution_count": null,
      "outputs": [
        {
          "output_type": "stream",
          "text": [
            "Downloading https://archive.ics.uci.edu/ml/machine-learning-databases/covtype/covtype.data.gz to /content/data/Covertype/covtype.data.gz\n",
            "\n",
            "Started at 25-08-20 18:24:09\n",
            "Training LinearPosteriorAgent on CovertypeDataBandit for 10000 timesteps\n",
            "timestep                  regret/regret             reward/reward             regret/cumulative_regret  reward/cumulative_reward  regret/regret_moving_avg  reward/reward_moving_avg  \n",
            "100                       0                         1                         86                        14                        0.86                      0.14                      \n",
            "200                       1                         0                         168                       32                        0.84                      0.16                      \n",
            "300                       1                         0                         252                       48                        0.84                      0.16                      \n",
            "400                       1                         0                         339                       61                        0.8475                    0.1525                    \n",
            "500                       1                         0                         424                       76                        0.848                     0.152                     \n"
          ],
          "name": "stdout"
        },
        {
          "output_type": "stream",
          "text": [
            "/content/genrl/genrl/agents/bandits/contextual/linpos.py:92: RuntimeWarning: covariance is not positive-semidefinite.\n",
            "  for i in range(self.n_actions)\n"
          ],
          "name": "stderr"
        },
        {
          "output_type": "stream",
          "text": [
            "600                       1                         0                         509                       91                        0.846                     0.154                     \n",
            "700                       1                         0                         557                       143                       0.778                     0.222                     \n",
            "800                       1                         0                         588                       212                       0.672                     0.328                     \n",
            "900                       0                         1                         634                       266                       0.59                      0.41                      \n",
            "1000                      0                         1                         678                       322                       0.508                     0.492                     \n",
            "1100                      0                         1                         715                       385                       0.412                     0.588                     \n",
            "1200                      0                         1                         752                       448                       0.39                      0.61                      \n",
            "1300                      0                         1                         798                       502                       0.42                      0.58                      \n",
            "1400                      0                         1                         827                       573                       0.386                     0.614                     \n",
            "1500                      1                         0                         856                       644                       0.356                     0.644                     \n",
            "1600                      1                         0                         904                       696                       0.378                     0.622                     \n",
            "1700                      0                         1                         942                       758                       0.38                      0.62                      \n",
            "1800                      1                         0                         985                       815                       0.374                     0.626                     \n",
            "1900                      1                         0                         1023                      877                       0.392                     0.608                     \n",
            "2000                      0                         1                         1053                      947                       0.394                     0.606                     \n",
            "2100                      1                         0                         1101                      999                       0.394                     0.606                     \n",
            "2200                      0                         1                         1127                      1073                      0.37                      0.63                      \n",
            "2300                      1                         0                         1176                      1124                      0.382                     0.618                     \n",
            "2400                      1                         0                         1223                      1177                      0.4                       0.6                       \n",
            "2500                      0                         1                         1262                      1238                      0.418                     0.582                     \n",
            "2600                      1                         0                         1307                      1293                      0.412                     0.588                     \n",
            "2700                      0                         1                         1348                      1352                      0.442                     0.558                     \n",
            "2800                      1                         0                         1392                      1408                      0.432                     0.568                     \n",
            "2900                      1                         0                         1440                      1460                      0.434                     0.566                     \n",
            "3000                      1                         0                         1477                      1523                      0.43                      0.57                      \n",
            "3100                      1                         0                         1526                      1574                      0.438                     0.562                     \n",
            "3200                      1                         0                         1561                      1639                      0.426                     0.574                     \n",
            "3300                      0                         1                         1597                      1703                      0.41                      0.59                      \n",
            "3400                      0                         1                         1638                      1762                      0.396                     0.604                     \n",
            "3500                      0                         1                         1678                      1822                      0.402                     0.598                     \n",
            "3600                      0                         1                         1712                      1888                      0.372                     0.628                     \n",
            "3700                      0                         1                         1757                      1943                      0.392                     0.608                     \n",
            "3800                      0                         1                         1805                      1995                      0.416                     0.584                     \n",
            "3900                      1                         0                         1841                      2059                      0.406                     0.594                     \n",
            "4000                      0                         1                         1873                      2127                      0.39                      0.61                      \n",
            "4100                      1                         0                         1907                      2193                      0.39                      0.61                      \n",
            "4200                      0                         1                         1950                      2250                      0.386                     0.614                     \n",
            "4300                      0                         1                         1986                      2314                      0.362                     0.638                     \n",
            "4400                      0                         1                         2026                      2374                      0.37                      0.63                      \n",
            "4500                      0                         1                         2067                      2433                      0.388                     0.612                     \n",
            "4600                      1                         0                         2107                      2493                      0.4                       0.6                       \n",
            "4700                      0                         1                         2142                      2558                      0.384                     0.616                     \n",
            "4800                      0                         1                         2186                      2614                      0.4                       0.6                       \n",
            "4900                      0                         1                         2228                      2672                      0.404                     0.596                     \n",
            "5000                      1                         0                         2268                      2732                      0.402                     0.598                     \n",
            "5100                      0                         1                         2301                      2799                      0.388                     0.612                     \n",
            "5200                      0                         1                         2335                      2865                      0.386                     0.614                     \n",
            "5300                      0                         1                         2375                      2925                      0.378                     0.622                     \n",
            "5400                      0                         1                         2410                      2990                      0.364                     0.636                     \n",
            "5500                      1                         0                         2456                      3044                      0.376                     0.624                     \n",
            "5600                      1                         0                         2499                      3101                      0.396                     0.604                     \n",
            "5700                      1                         0                         2536                      3164                      0.402                     0.598                     \n",
            "5800                      0                         1                         2576                      3224                      0.402                     0.598                     \n",
            "5900                      0                         1                         2610                      3290                      0.4                       0.6                       \n",
            "6000                      0                         1                         2654                      3346                      0.396                     0.604                     \n",
            "6100                      1                         0                         2701                      3399                      0.404                     0.596                     \n",
            "6200                      1                         0                         2745                      3455                      0.418                     0.582                     \n",
            "6300                      1                         0                         2789                      3511                      0.426                     0.574                     \n",
            "6400                      1                         0                         2824                      3576                      0.428                     0.572                     \n",
            "6500                      0                         1                         2867                      3633                      0.426                     0.574                     \n",
            "6600                      1                         0                         2909                      3691                      0.416                     0.584                     \n",
            "6700                      0                         1                         2952                      3748                      0.414                     0.586                     \n",
            "6800                      0                         1                         2997                      3803                      0.416                     0.584                     \n",
            "6900                      1                         0                         3040                      3860                      0.432                     0.568                     \n",
            "7000                      1                         0                         3076                      3924                      0.418                     0.582                     \n",
            "7100                      0                         1                         3118                      3982                      0.418                     0.582                     \n",
            "7200                      0                         1                         3158                      4042                      0.412                     0.588                     \n",
            "7300                      0                         1                         3205                      4095                      0.416                     0.584                     \n",
            "7400                      0                         1                         3241                      4159                      0.402                     0.598                     \n",
            "7500                      0                         1                         3280                      4220                      0.408                     0.592                     \n",
            "7600                      0                         1                         3320                      4280                      0.404                     0.596                     \n",
            "7700                      1                         0                         3363                      4337                      0.41                      0.59                      \n",
            "7800                      0                         1                         3403                      4397                      0.396                     0.604                     \n",
            "7900                      1                         0                         3442                      4458                      0.402                     0.598                     \n",
            "8000                      1                         0                         3477                      4523                      0.394                     0.606                     \n",
            "8100                      0                         1                         3523                      4577                      0.406                     0.594                     \n",
            "8200                      1                         0                         3568                      4632                      0.41                      0.59                      \n",
            "8300                      1                         0                         3607                      4693                      0.408                     0.592                     \n",
            "8400                      0                         1                         3658                      4742                      0.432                     0.568                     \n",
            "8500                      0                         1                         3699                      4801                      0.444                     0.556                     \n",
            "8600                      0                         1                         3745                      4855                      0.444                     0.556                     \n",
            "8700                      0                         1                         3790                      4910                      0.444                     0.556                     \n",
            "8800                      1                         0                         3828                      4972                      0.442                     0.558                     \n",
            "8900                      0                         1                         3859                      5041                      0.402                     0.598                     \n",
            "9000                      0                         1                         3894                      5106                      0.39                      0.61                      \n",
            "9100                      0                         1                         3939                      5161                      0.388                     0.612                     \n",
            "9200                      1                         0                         3979                      5221                      0.378                     0.622                     \n",
            "9300                      0                         1                         4015                      5285                      0.374                     0.626                     \n",
            "9400                      0                         1                         4058                      5342                      0.398                     0.602                     \n",
            "9500                      0                         1                         4092                      5408                      0.396                     0.604                     \n",
            "9600                      0                         1                         4133                      5467                      0.388                     0.612                     \n",
            "9700                      0                         1                         4183                      5517                      0.408                     0.592                     \n",
            "9800                      1                         0                         4225                      5575                      0.42                      0.58                      \n",
            "9900                      0                         1                         4256                      5644                      0.396                     0.604                     \n",
            "10000                     1                         0                         4298                      5702                      0.412                     0.588                     \n",
            "Training completed in 93 seconds\n",
            "Final Regret Moving Average: 0.412 | Final Reward Moving Average: 0.588\n"
          ],
          "name": "stdout"
        },
        {
          "output_type": "execute_result",
          "data": {
            "text/plain": [
              "[<matplotlib.lines.Line2D at 0x7f845f2220b8>]"
            ]
          },
          "metadata": {
            "tags": []
          },
          "execution_count": 50
        },
        {
          "output_type": "display_data",
          "data": {
            "image/png": "[encoded data removed]",
            "text/plain": [
              "<Figure size 432x288 with 1 Axes>"
            ]
          },
          "metadata": {
            "tags": [],
            "needs_background": "light"
          }
        }
      ]
    },
    {
      "cell_type": "code",
      "metadata": {
        "id": "Tu0BBHt43N4m",
        "colab_type": "code",
        "colab": {
          "base_uri": "https://localhost:8080/",
          "height": 744
        },
        "outputId": "9864790d-d1e4-4d9e-cfc0-330875e19ebf"
      },
      "source": [
        "from genrl.agents import MABAgent\n",
        "from genrl.agents import EpsGreedyMABAgent, BernoulliMAB\n",
        "\n",
        "class ReinforcementComparison(MABAgent):\n",
        "    def __init__(self, bandit, alpha, beta):\n",
        "        super(ReinforcementComparison, self).__init__(bandit)\n",
        "        self.alpha = alpha\n",
        "        self.beta = beta\n",
        "        self._pi = torch.zeros(self._bandit.arms)\n",
        "        self._r = torch.zeros(self._bandit.arms)\n",
        "\n",
        "    def select_action(self, context):\n",
        "        p = torch.softmax(self._pi, 0)\n",
        "        a = torch.distributions.Categorical(p).sample()\n",
        "        return a.item()\n",
        "\n",
        "    def update_params(self, context, action, reward):\n",
        "        self._pi[action] += self.beta * (reward - torch.mean(self._r))\n",
        "        self._r[action] = self._r[action] * (1 - self.alpha) + self._r[action] * self.alpha\n",
        "\n",
        "bandit = BernoulliMAB(arms=50, context_type=\"int\")\n",
        "agent = ReinforcementComparison(bandit, 0.3, 0.3)\n",
        "trainer = MABTrainer(agent, bandit)\n",
        "results = trainer.train(2000)\n",
        "\n",
        "plt.plot(results[\"cumulative_regrets\"])"
      ],
      "execution_count": null,
      "outputs": [
        {
          "output_type": "stream",
          "text": [
            "\n",
            "Started at 25-08-20 18:26:48\n",
            "Training ReinforcementComparison on BernoulliMAB for 2000 timesteps\n",
            "timestep                  regret/regret             reward/reward             regret/cumulative_regret  reward/cumulative_reward  regret/regret_moving_avg  reward/reward_moving_avg  \n",
            "100                       0                         1                         44                        56                        0.44                      0.56                      \n",
            "200                       0                         1                         78                        122                       0.34                      0.66                      \n",
            "300                       0                         1                         111                       189                       0.33                      0.67                      \n",
            "400                       1                         0                         151                       249                       0.4                       0.6                       \n",
            "500                       0                         1                         184                       316                       0.33                      0.67                      \n",
            "600                       1                         0                         222                       378                       0.38                      0.62                      \n",
            "700                       1                         0                         264                       436                       0.42                      0.58                      \n",
            "800                       1                         0                         293                       507                       0.29                      0.71                      \n",
            "900                       0                         1                         330                       570                       0.37                      0.63                      \n",
            "1000                      0                         1                         367                       633                       0.37                      0.63                      \n",
            "1100                      1                         0                         405                       695                       0.38                      0.62                      \n",
            "1200                      0                         1                         440                       760                       0.35                      0.65                      \n",
            "1300                      1                         0                         471                       829                       0.31                      0.69                      \n",
            "1400                      1                         0                         509                       891                       0.38                      0.62                      \n",
            "1500                      0                         1                         541                       959                       0.32                      0.68                      \n",
            "1600                      1                         0                         571                       1029                      0.3                       0.7                       \n",
            "1700                      1                         0                         616                       1084                      0.45                      0.55                      \n",
            "1800                      0                         1                         655                       1145                      0.39                      0.61                      \n",
            "1900                      1                         0                         693                       1207                      0.38                      0.62                      \n",
            "2000                      1                         0                         727                       1273                      0.34                      0.66                      \n",
            "Training completed in 0 seconds\n",
            "Final Regret Moving Average: 0.34 | Final Reward Moving Average: 0.66\n"
          ],
          "name": "stdout"
        },
        {
          "output_type": "execute_result",
          "data": {
            "text/plain": [
              "[<matplotlib.lines.Line2D at 0x7f845f26d5f8>]"
            ]
          },
          "metadata": {
            "tags": []
          },
          "execution_count": 51
        },
        {
          "output_type": "display_data",
          "data": {
            "image/png": "[encoded data removed]",
            "text/plain": [
              "<Figure size 432x288 with 1 Axes>"
            ]
          },
          "metadata": {
            "tags": [],
            "needs_background": "light"
          }
        }
      ]
    },
    {
      "cell_type": "code",
      "metadata": {
        "id": "r4ld3UXj31ne",
        "colab_type": "code",
        "colab": {
          "base_uri": "https://localhost:8080/",
          "height": 623
        },
        "outputId": "4caa035b-7b89-48ac-f689-4ca8c6d7cf3e"
      },
      "source": [
        "from genrl.agents import DCBAgent, BernoulliMAB\n",
        "from genrl.trainers import DCBTrainer\n",
        "from genrl.agents.bandits.contextual.common import NeuralBanditModel, TransitionDB\n",
        "\n",
        "class NeuralAgent(DCBAgent):\n",
        "    def __init__(self, bandit, **kwargs):\n",
        "        super(NeuralAgent, self).__init__(bandit, **kwargs)\n",
        "        self.model = (\n",
        "            NeuralBanditModel(\n",
        "                context_dim=self.context_dim,\n",
        "                n_actions=self.n_actions,\n",
        "                hidden_dims=kwargs.get(\"hidden_dims\", [64]),\n",
        "                **kwargs\n",
        "            )\n",
        "            .to(torch.float)\n",
        "            .to(self.device)\n",
        "        )\n",
        "        self.db = TransitionDB(self.device)\n",
        "        self.t = 0\n",
        "\n",
        "    def select_action(self, context):\n",
        "        self.t += 1\n",
        "        if self.t < self.n_actions * self.init_pulls:\n",
        "            return torch.tensor(\n",
        "                self.t % self.n_actions, device=self.device, dtype=torch.int\n",
        "            ).view(1)\n",
        "\n",
        "        results = self.model(context)\n",
        "        action = torch.argmax(results[\"pred_rewards\"]).to(torch.int).view(1)\n",
        "        return action\n",
        "\n",
        "    def update_db(self, context, action, reward):\n",
        "        self.db.add(context, action, reward)\n",
        "\n",
        "    def update_param(self, action, batch_size=512, train_epochs=20):\n",
        "        self.model.train_model(self.db, train_epochs, batch_size)\n",
        "\n",
        "bandit = BernoulliMAB(arms=10, context_type=\"tensor\")\n",
        "agent = NeuralAgent(bandit)\n",
        "trainer = DCBTrainer(agent, bandit)\n",
        "results = trainer.train(5000)\n",
        "\n",
        "plt.plot(results[\"cumulative_regrets\"])"
      ],
      "execution_count": null,
      "outputs": [
        {
          "output_type": "stream",
          "text": [
            "\n",
            "Started at 25-08-20 18:28:18\n",
            "Training NeuralAgent on BernoulliMAB for 5000 timesteps\n",
            "timestep                  regret/regret             reward/reward             regret/cumulative_regret  reward/cumulative_reward  regret/regret_moving_avg  reward/reward_moving_avg  \n",
            "100                       0                         1                         14                        86                        0.14                      0.86                      \n",
            "200                       0                         1                         15                        185                       0.075                     0.925                     \n",
            "300                       0                         1                         18                        282                       0.016                     0.984                     \n",
            "400                       0                         1                         20                        380                       0.02                      0.98                      \n",
            "500                       0                         1                         23                        477                       0.028                     0.972                     \n",
            "\n",
            "Encounterred exception during training!\n",
            "'NeuralAgent' object has no attribute 'update_params'\n",
            "\n",
            "Training completed in 0 seconds\n",
            "Final Regret Moving Average: 0.028 | Final Reward Moving Average: 0.972\n"
          ],
          "name": "stdout"
        },
        {
          "output_type": "stream",
          "text": [
            "Traceback (most recent call last):\n",
            "  File \"/content/genrl/genrl/trainers/bandit.py\", line 194, in train\n",
            "    self.agent.update_params(\n",
            "AttributeError: 'NeuralAgent' object has no attribute 'update_params'\n"
          ],
          "name": "stderr"
        },
        {
          "output_type": "execute_result",
          "data": {
            "text/plain": [
              "[<matplotlib.lines.Line2D at 0x7f845f449588>]"
            ]
          },
          "metadata": {
            "tags": []
          },
          "execution_count": 52
        },
        {
          "output_type": "display_data",
          "data": {
            "image/png": "[encoded data removed]",
            "text/plain": [
              "<Figure size 432x288 with 1 Axes>"
            ]
          },
          "metadata": {
            "tags": [],
            "needs_background": "light"
          }
        }
      ]
    },
    {
      "cell_type": "code",
      "metadata": {
        "id": "4e8fq4n24LhA",
        "colab_type": "code",
        "colab": {}
      },
      "source": [
        ""
      ],
      "execution_count": null,
      "outputs": []
    }
  ]
}